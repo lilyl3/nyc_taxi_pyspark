{
 "cells": [
  {
   "cell_type": "markdown",
   "metadata": {
    "application/vnd.databricks.v1+cell": {
     "cellMetadata": {
      "byteLimit": 2048000,
      "rowLimit": 10000
     },
     "inputWidgets": {},
     "nuid": "12682f68-a6ed-4038-96e1-0408f80bd3a4",
     "showTitle": false,
     "tableResultSettingsMap": {},
     "title": ""
    }
   },
   "source": [
    "## NYC Yellow Taxi 2019"
   ]
  },
  {
   "cell_type": "markdown",
   "metadata": {
    "application/vnd.databricks.v1+cell": {
     "cellMetadata": {
      "byteLimit": 2048000,
      "rowLimit": 10000
     },
     "inputWidgets": {},
     "nuid": "0fabe8bd-7adf-4eb5-8420-f133832b7efd",
     "showTitle": false,
     "tableResultSettingsMap": {},
     "title": ""
    }
   },
   "source": [
    "### Data Loading\n",
    "\n",
    "To view the root 'databricks-datasets' folder, run:\n",
    "`display(dbutils.fs.ls(\"/databricks-datasets/\"))`"
   ]
  },
  {
   "cell_type": "code",
   "execution_count": 0,
   "metadata": {
    "application/vnd.databricks.v1+cell": {
     "cellMetadata": {
      "byteLimit": 2048000,
      "rowLimit": 10000
     },
     "inputWidgets": {},
     "nuid": "2458754a-8490-45c8-a377-3901414740d0",
     "showTitle": false,
     "tableResultSettingsMap": {
      "0": {
       "dataGridStateBlob": "{\"version\":1,\"tableState\":{\"columnPinning\":{\"left\":[\"#row_number#\"],\"right\":[]},\"columnSizing\":{\"name\":291},\"columnVisibility\":{}},\"settings\":{\"columns\":{}},\"syncTimestamp\":1758993264221}",
       "filterBlob": null,
       "queryPlanFiltersBlob": null,
       "tableResultIndex": 0
      }
     },
     "title": ""
    }
   },
   "outputs": [],
   "source": [
    "display(dbutils.fs.ls(\"/databricks-datasets/nyctaxi/tripdata/yellow/\"))"
   ]
  },
  {
   "cell_type": "code",
   "execution_count": 0,
   "metadata": {
    "application/vnd.databricks.v1+cell": {
     "cellMetadata": {
      "byteLimit": 2048000,
      "rowLimit": 10000
     },
     "inputWidgets": {},
     "nuid": "e0b522c9-7bae-4bd9-840f-e98be4a7658a",
     "showTitle": false,
     "tableResultSettingsMap": {},
     "title": ""
    }
   },
   "outputs": [],
   "source": [
    "# Load in the data from August 2019\n",
    "nyc_2019_08_df = spark.read \\\n",
    "    .option(\"header\", \"true\") \\\n",
    "    .option(\"inferSchema\", \"true\") \\\n",
    "    .csv(\"dbfs:/databricks-datasets/nyctaxi/tripdata/yellow/yellow_tripdata_2019-08.csv.gz\")\n",
    "\n",
    "# Number of rows\n",
    "nyc_2019_08_df.count()"
   ]
  },
  {
   "cell_type": "code",
   "execution_count": 0,
   "metadata": {
    "application/vnd.databricks.v1+cell": {
     "cellMetadata": {
      "byteLimit": 2048000,
      "rowLimit": 10000
     },
     "inputWidgets": {},
     "nuid": "0d7c77b9-44c9-4ea5-8ab8-2ea2e5519de5",
     "showTitle": false,
     "tableResultSettingsMap": {},
     "title": ""
    }
   },
   "outputs": [],
   "source": [
    "# View schema\n",
    "nyc_2019_08_df.printSchema()"
   ]
  },
  {
   "cell_type": "markdown",
   "metadata": {
    "application/vnd.databricks.v1+cell": {
     "cellMetadata": {
      "byteLimit": 2048000,
      "rowLimit": 10000
     },
     "inputWidgets": {},
     "nuid": "0996b93c-e814-4d80-bfde-484dfdda1e55",
     "showTitle": false,
     "tableResultSettingsMap": {},
     "title": ""
    }
   },
   "source": [
    "### Data Cleaning and Aggregation"
   ]
  },
  {
   "cell_type": "code",
   "execution_count": 0,
   "metadata": {
    "application/vnd.databricks.v1+cell": {
     "cellMetadata": {
      "byteLimit": 2048000,
      "rowLimit": 10000
     },
     "inputWidgets": {},
     "nuid": "6e70a5ae-dea7-4792-a4cd-7eb140639d07",
     "showTitle": false,
     "tableResultSettingsMap": {},
     "title": ""
    }
   },
   "outputs": [],
   "source": [
    "# Drop rows if missing pickup or dropoff datetime\n",
    "nyc_2019_08_df = nyc_2019_08_df.na.drop(subset=[\"tpep_pickup_datetime\", \"tpep_dropoff_datetime\"])\n",
    "nyc_2019_08_df.count()\n",
    "# Number of rows remains the same ==> no missing values"
   ]
  },
  {
   "cell_type": "code",
   "execution_count": 0,
   "metadata": {
    "application/vnd.databricks.v1+cell": {
     "cellMetadata": {
      "byteLimit": 2048000,
      "rowLimit": 10000
     },
     "inputWidgets": {},
     "nuid": "87c1181c-027c-4bb6-924a-d0eb9ec1ec51",
     "showTitle": false,
     "tableResultSettingsMap": {},
     "title": ""
    }
   },
   "outputs": [],
   "source": [
    "from pyspark.sql.functions import min, max, col\n",
    "\n",
    "min_max_datetime = nyc_2019_08_df.select(min(col(\"tpep_pickup_datetime\")), max(col(\"tpep_pickup_datetime\")))\n",
    "min_max_datetime.show()"
   ]
  },
  {
   "cell_type": "code",
   "execution_count": 0,
   "metadata": {
    "application/vnd.databricks.v1+cell": {
     "cellMetadata": {
      "byteLimit": 2048000,
      "rowLimit": 10000
     },
     "inputWidgets": {},
     "nuid": "9ad632ec-0fbd-41b4-a7cd-ac327d901ac1",
     "showTitle": false,
     "tableResultSettingsMap": {},
     "title": ""
    }
   },
   "outputs": [],
   "source": [
    "# Filter rows to include only trips in August\n",
    "nyc_2019_08_df_clean = nyc_2019_08_df.filter(\n",
    "    (col(\"tpep_pickup_datetime\") >= \"2019-08-01\") & (col(\"tpep_pickup_datetime\") < \"2019-09-01\") & \n",
    "    (col(\"tpep_dropoff_datetime\") >= \"2019-08-01\") & (col(\"tpep_dropoff_datetime\") <= \"2019-09-01\")\n",
    ")\n",
    "nyc_2019_08_df_clean.count()"
   ]
  },
  {
   "cell_type": "code",
   "execution_count": 0,
   "metadata": {
    "application/vnd.databricks.v1+cell": {
     "cellMetadata": {
      "byteLimit": 2048000,
      "rowLimit": 10000
     },
     "inputWidgets": {},
     "nuid": "b6510e52-f2b1-4df0-b535-9a50d3ec8d2d",
     "showTitle": false,
     "tableResultSettingsMap": {},
     "title": ""
    }
   },
   "outputs": [],
   "source": [
    "from pyspark.sql.functions import unix_timestamp\n",
    "\n",
    "# Exclude trips with invalid durations: negative or exceeding 24 hours (86400 seconds)\n",
    "nyc_2019_08_df_clean = nyc_2019_08_df_clean.filter(\n",
    "    (unix_timestamp(\"tpep_dropoff_datetime\") - unix_timestamp(\"tpep_pickup_datetime\")).between(0, 86400)\n",
    ")\n",
    "\n",
    "nyc_2019_08_df_clean.count()"
   ]
  },
  {
   "cell_type": "code",
   "execution_count": 0,
   "metadata": {
    "application/vnd.databricks.v1+cell": {
     "cellMetadata": {
      "byteLimit": 2048000,
      "rowLimit": 10000
     },
     "inputWidgets": {},
     "nuid": "a10f5456-2896-4d31-9abe-f39ee6d5806d",
     "showTitle": false,
     "tableResultSettingsMap": {},
     "title": ""
    }
   },
   "outputs": [],
   "source": [
    "# Extract day and hour (military) from pickup and dropoff datetime\n",
    "from pyspark.sql.functions import date_format, hour\n",
    "\n",
    "for prefix, col_name in [(\"pickup\", \"tpep_pickup_datetime\"), (\"dropoff\", \"tpep_dropoff_datetime\")]:\n",
    "    nyc_2019_08_df_clean = nyc_2019_08_df_clean.withColumn(f\"{prefix}_date\", date_format(col_name, \"yyyy-MM-dd\"))\\\n",
    "                                   .withColumn(f\"{prefix}_hour\", hour(col_name))\n",
    "\n",
    "nyc_2019_08_df_clean.count()"
   ]
  },
  {
   "cell_type": "markdown",
   "metadata": {
    "application/vnd.databricks.v1+cell": {
     "cellMetadata": {
      "byteLimit": 2048000,
      "rowLimit": 10000
     },
     "inputWidgets": {},
     "nuid": "4281173b-6df1-4191-8103-5af1f20b21d7",
     "showTitle": false,
     "tableResultSettingsMap": {},
     "title": ""
    }
   },
   "source": [
    "### Exploratory Data Analysis"
   ]
  },
  {
   "cell_type": "code",
   "execution_count": 0,
   "metadata": {
    "application/vnd.databricks.v1+cell": {
     "cellMetadata": {
      "byteLimit": 2048000,
      "rowLimit": 10000
     },
     "inputWidgets": {},
     "nuid": "9a361008-6f9d-471e-b4d1-232c78e2e049",
     "showTitle": false,
     "tableResultSettingsMap": {},
     "title": ""
    }
   },
   "outputs": [],
   "source": [
    "# Which hour has the highest number of pickups?\n",
    "nyc_2019_08_df_clean.createOrReplaceTempView(\"nyc_2019_08\")\n",
    "\n",
    "pickups_per_hours = spark.sql(\n",
    "    \"\"\"\n",
    "    SELECT pickup_hour, count(*) as num_pickups FROM nyc_2019_08\n",
    "    GROUP BY pickup_hour\n",
    "    ORDER BY num_pickups DESC\n",
    "    LIMIT 5\n",
    "    \"\"\"\n",
    ")\n",
    "\n",
    "pickups_per_hours.show()"
   ]
  },
  {
   "cell_type": "code",
   "execution_count": 0,
   "metadata": {
    "application/vnd.databricks.v1+cell": {
     "cellMetadata": {
      "byteLimit": 2048000,
      "rowLimit": 10000
     },
     "inputWidgets": {},
     "nuid": "15f7c0c1-d15d-4ecf-a304-4181cf48a726",
     "showTitle": false,
     "tableResultSettingsMap": {},
     "title": ""
    }
   },
   "outputs": [],
   "source": [
    "# Which days had the highest number of pickups?\n",
    "pickups_per_day = spark.sql(\n",
    "    \"\"\"\n",
    "    SELECT pickup_date, count(*) AS num_pickups FROM nyc_2019_08\n",
    "    GROUP BY pickup_date\n",
    "    ORDER BY num_pickups DESC\n",
    "    LIMIT 10\n",
    "    \"\"\"\n",
    ")\n",
    "\n",
    "pickups_per_day.show()"
   ]
  },
  {
   "cell_type": "code",
   "execution_count": 0,
   "metadata": {
    "application/vnd.databricks.v1+cell": {
     "cellMetadata": {
      "byteLimit": 2048000,
      "rowLimit": 10000
     },
     "inputWidgets": {},
     "nuid": "d2d5bbc3-1428-4516-8bf2-653380bdeb56",
     "showTitle": false,
     "tableResultSettingsMap": {},
     "title": ""
    }
   },
   "outputs": [],
   "source": []
  }
 ],
 "metadata": {
  "application/vnd.databricks.v1+notebook": {
   "computePreferences": null,
   "dashboards": [],
   "environmentMetadata": {
    "base_environment": "",
    "environment_version": "3"
   },
   "inputWidgetPreferences": null,
   "language": "python",
   "notebookMetadata": {
    "pythonIndentUnit": 4
   },
   "notebookName": "NYC Yellow Taxi",
   "widgets": {}
  },
  "language_info": {
   "name": "python"
  }
 },
 "nbformat": 4,
 "nbformat_minor": 0
}

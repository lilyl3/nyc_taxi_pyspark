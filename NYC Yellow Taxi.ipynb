{
 "cells": [
  {
   "cell_type": "markdown",
   "metadata": {
    "application/vnd.databricks.v1+cell": {
     "cellMetadata": {
      "byteLimit": 2048000,
      "rowLimit": 10000
     },
     "inputWidgets": {},
     "nuid": "12682f68-a6ed-4038-96e1-0408f80bd3a4",
     "showTitle": false,
     "tableResultSettingsMap": {},
     "title": ""
    }
   },
   "source": [
    "## NYC Yellow Taxi 2019"
   ]
  },
  {
   "cell_type": "code",
   "execution_count": 0,
   "metadata": {
    "application/vnd.databricks.v1+cell": {
     "cellMetadata": {
      "byteLimit": 2048000,
      "rowLimit": 10000
     },
     "inputWidgets": {},
     "nuid": "2458754a-8490-45c8-a377-3901414740d0",
     "showTitle": false,
     "tableResultSettingsMap": {
      "0": {
       "dataGridStateBlob": "{\"version\":1,\"tableState\":{\"columnPinning\":{\"left\":[\"#row_number#\"],\"right\":[]},\"columnSizing\":{\"name\":291},\"columnVisibility\":{}},\"settings\":{\"columns\":{}},\"syncTimestamp\":1758993264221}",
       "filterBlob": null,
       "queryPlanFiltersBlob": null,
       "tableResultIndex": 0
      }
     },
     "title": ""
    }
   },
   "outputs": [],
   "source": [
    "# To view the root 'databricks-datasets' folder, run: `display(dbutils.fs.ls(\"/databricks-datasets/\"))`\n",
    "display(dbutils.fs.ls(\"/databricks-datasets/nyctaxi/tripdata/yellow/\"))"
   ]
  },
  {
   "cell_type": "code",
   "execution_count": 0,
   "metadata": {
    "application/vnd.databricks.v1+cell": {
     "cellMetadata": {
      "byteLimit": 2048000,
      "rowLimit": 10000
     },
     "inputWidgets": {},
     "nuid": "431a7c46-609a-48ae-a3e9-de7099cccb15",
     "showTitle": false,
     "tableResultSettingsMap": {},
     "title": ""
    }
   },
   "outputs": [],
   "source": [
    "from pyspark.sql.functions import min, max, col, unix_timestamp, date_format, hour\n",
    "\n",
    "class NYCTaxiData:\n",
    "    def __init__(self, month, year):\n",
    "        self.month = month\n",
    "        self.year = year\n",
    "        self.df = self.read_data()\n",
    "        self.clean_df = self.clean_data()\n",
    "    \n",
    "    def read_data(self):\n",
    "        return spark.read \\\n",
    "            .option(\"header\", \"true\") \\\n",
    "            .option(\"inferSchema\", \"true\") \\\n",
    "            .csv(f\"dbfs:/databricks-datasets/nyctaxi/tripdata/yellow/yellow_tripdata_{self.year}-{self.month}.csv.gz\")\n",
    "\n",
    "    def clean_data(self):\n",
    "        next_month = (int(self.month) + 1) % 13\n",
    "        next_month = f\"0{next_month}\" if next_month < 10 else str(next_month)\n",
    "        year_of_next_month = self.year if self.month != \"12\" else f\"{int(self.year) + 1}\"\n",
    "        print(f\"Cleaning data: The next_month is: {next_month}, year of the next month is: {year_of_next_month}\\n\")\n",
    "\n",
    "        # Drop rows if missing pickup or dropoff datetime\n",
    "        # Filter rows to include only trips in the year-month\n",
    "        # Exclude trips with invalid durations: negative or exceeding 24 hours (86400 seconds)\n",
    "        # Extract day and hour (military) from pickup and dropoff datetime\n",
    "        clean_df = self.df\\\n",
    "            .na.drop(subset=[\"tpep_pickup_datetime\", \"tpep_dropoff_datetime\"])\\\n",
    "            .filter(\n",
    "                (col(\"tpep_pickup_datetime\") >= f\"{self.year}-{self.month}-01\") & \n",
    "                (col(\"tpep_pickup_datetime\") < f\"{year_of_next_month}-{next_month}-01\") &\n",
    "                (col(\"tpep_dropoff_datetime\") >= f\"{self.year}-{self.month}-01\") & \n",
    "                (col(\"tpep_dropoff_datetime\") < f\"{year_of_next_month}-{next_month}-01\")\n",
    "            )\\\n",
    "            .filter(\n",
    "                (unix_timestamp(\"tpep_dropoff_datetime\") - unix_timestamp(\"tpep_pickup_datetime\")).between(0, 86400)\n",
    "            )\\\n",
    "            .withColumn(\"pickup_date\", date_format(col(\"tpep_pickup_datetime\"), \"yyyy-MM-dd\"))\\\n",
    "            .withColumn(\"pickup_hour\", hour(col(\"tpep_pickup_datetime\")))\\\n",
    "            .withColumn(\"dropoff_date\", date_format(col(\"tpep_dropoff_datetime\"), \"yyyy-MM-dd\"))\\\n",
    "            .withColumn(\"dropoff_hour\", hour(col(\"tpep_dropoff_datetime\")))\n",
    "\n",
    "        return clean_df\n",
    "\n",
    "    def len(self):\n",
    "        return self.clean_df.count()\n",
    "    \n",
    "    def original_len(self):\n",
    "        return self.df.count()\n",
    "    \n",
    "    # Return the top n hours with the most pickups\n",
    "    def pickups_per_time_interval(self, time_interval, top_n):\n",
    "        # time_interval either based on date or hour\n",
    "        pickups_per_time_interval = self.clean_df\\\n",
    "            .groupby(f\"pickup_{time_interval}\")\\\n",
    "            .count()\\\n",
    "            .withColumnRenamed(\"count\", \"num_pickups\") \\\n",
    "            .orderBy(\"num_pickups\", ascending=False)\\\n",
    "            .limit(top_n)\n",
    "        return pickups_per_time_interval\n"
   ]
  },
  {
   "cell_type": "code",
   "execution_count": 0,
   "metadata": {
    "application/vnd.databricks.v1+cell": {
     "cellMetadata": {
      "byteLimit": 2048000,
      "rowLimit": 10000
     },
     "inputWidgets": {},
     "nuid": "8b1d21b1-c9ac-41fd-8c45-0692ee121f33",
     "showTitle": false,
     "tableResultSettingsMap": {},
     "title": ""
    }
   },
   "outputs": [],
   "source": [
    "nyc_2019_08_df = NYCTaxiData(\"08\", \"2019\")\n",
    "print(f\"Number of rows: {nyc_2019_08_df.len()}\")"
   ]
  },
  {
   "cell_type": "code",
   "execution_count": 0,
   "metadata": {
    "application/vnd.databricks.v1+cell": {
     "cellMetadata": {
      "byteLimit": 2048000,
      "rowLimit": 10000
     },
     "inputWidgets": {},
     "nuid": "05136de6-a892-4393-9c2f-16b0dd438899",
     "showTitle": false,
     "tableResultSettingsMap": {},
     "title": ""
    }
   },
   "outputs": [],
   "source": [
    "nyc_2019_08_df.pickups_per_time_interval(\"hour\", 10).show()"
   ]
  },
  {
   "cell_type": "code",
   "execution_count": 0,
   "metadata": {
    "application/vnd.databricks.v1+cell": {
     "cellMetadata": {
      "byteLimit": 2048000,
      "rowLimit": 10000
     },
     "inputWidgets": {},
     "nuid": "5fef7806-88de-4a1b-afaa-3ca7bd55094b",
     "showTitle": false,
     "tableResultSettingsMap": {},
     "title": ""
    }
   },
   "outputs": [],
   "source": [
    "nyc_2019_08_df.pickups_per_time_interval(\"date\", 5).show()"
   ]
  },
  {
   "cell_type": "code",
   "execution_count": 0,
   "metadata": {
    "application/vnd.databricks.v1+cell": {
     "cellMetadata": {
      "byteLimit": 2048000,
      "rowLimit": 10000
     },
     "inputWidgets": {},
     "nuid": "d2d5bbc3-1428-4516-8bf2-653380bdeb56",
     "showTitle": false,
     "tableResultSettingsMap": {},
     "title": ""
    }
   },
   "outputs": [],
   "source": [
    "nyc_2019_09_df = NYCTaxiData(\"09\", \"2019\")\n",
    "print(f\"Number of rows: {nyc_2019_09_df.len()}\")"
   ]
  },
  {
   "cell_type": "code",
   "execution_count": 0,
   "metadata": {
    "application/vnd.databricks.v1+cell": {
     "cellMetadata": {
      "byteLimit": 2048000,
      "rowLimit": 10000
     },
     "inputWidgets": {},
     "nuid": "5866530d-213b-4033-90e3-6ed00d065337",
     "showTitle": false,
     "tableResultSettingsMap": {},
     "title": ""
    }
   },
   "outputs": [],
   "source": [
    "nyc_2019_09_df.pickups_per_time_interval(\"date\", 5).show()"
   ]
  }
 ],
 "metadata": {
  "application/vnd.databricks.v1+notebook": {
   "computePreferences": null,
   "dashboards": [],
   "environmentMetadata": {
    "base_environment": "",
    "environment_version": "3"
   },
   "inputWidgetPreferences": null,
   "language": "python",
   "notebookMetadata": {
    "pythonIndentUnit": 4
   },
   "notebookName": "NYC Yellow Taxi",
   "widgets": {}
  },
  "language_info": {
   "name": "python"
  }
 },
 "nbformat": 4,
 "nbformat_minor": 0
}
